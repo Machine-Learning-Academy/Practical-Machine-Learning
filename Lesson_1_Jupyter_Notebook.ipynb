{
  "cells": [
    {
      "cell_type": "code",
      "execution_count": null,
      "metadata": {
        "colab": {
          "background_save": true,
          "base_uri": "https://localhost:8080/"
        },
        "id": "00srl-FKKNF2",
        "outputId": "37b751f2-3e81-4c37-e65f-3b83fd39beae"
      },
      "outputs": [
        {
          "name": "stdout",
          "output_type": "stream",
          "text": [
            "Python 3.7.15 (default, Oct 12 2022, 19:14:55) \n",
            "[GCC 7.5.0] on linux\n",
            "Type \"help\", \"copyright\", \"credits\" or \"license\" for more information.\n",
            ">>> "
          ]
        }
      ],
      "source": [
        "! python3"
      ]
    },
    {
      "cell_type": "markdown",
      "metadata": {
        "id": "MIJvV9_uKsuf"
      },
      "source": [
        "This is a Jupyter Notebook text cell.\n",
        "It should be used for titles and headings. \n",
        "This will give structure to your notebook."
      ]
    }
  ],
  "metadata": {
    "colab": {
      "provenance": []
    },
    "kernelspec": {
      "display_name": "Python 3",
      "name": "python3"
    },
    "language_info": {
      "name": "python"
    }
  },
  "nbformat": 4,
  "nbformat_minor": 0
}